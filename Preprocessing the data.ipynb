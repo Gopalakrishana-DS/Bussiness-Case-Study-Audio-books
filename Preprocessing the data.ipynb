{
 "cells": [
  {
   "cell_type": "code",
   "execution_count": 3,
   "id": "fb332272",
   "metadata": {},
   "outputs": [],
   "source": [
    "import numpy as np\n",
    "from sklearn import preprocessing"
   ]
  },
  {
   "cell_type": "code",
   "execution_count": 4,
   "id": "3546d73c",
   "metadata": {},
   "outputs": [],
   "source": [
    "raw_csv_data = np.loadtxt('Audiobooks_data.csv', delimiter=',')"
   ]
  },
  {
   "cell_type": "code",
   "execution_count": 5,
   "id": "3ffd5edf",
   "metadata": {},
   "outputs": [],
   "source": [
    "unscaled_input_all = raw_csv_data[:,1:-1]\n",
    "target_all = raw_csv_data[:,-1]"
   ]
  },
  {
   "cell_type": "markdown",
   "id": "bf071ee9",
   "metadata": {},
   "source": [
    "# Balance the dataset"
   ]
  },
  {
   "cell_type": "code",
   "execution_count": 10,
   "id": "65f1322e",
   "metadata": {},
   "outputs": [],
   "source": [
    "num_one_targets = int(np.sum(target_all))\n",
    "zero_target_counter = 0\n",
    "indices_to_remove = []\n",
    "\n",
    "for i in range(target_all.shape[0]):\n",
    "    if target_all[0] == 0:\n",
    "        zero_target_counter += 1\n",
    "        if zero_target_counter > num_one_targets:\n",
    "            indices_to_remove.append(i)\n",
    "\n",
    "            \n",
    "unscaled_input_equal_priors = np.delete(unscaled_input_all, indices_to_remove, axis=0)\n",
    "target_equal_priors = np.delete(target_all, indices_to_remove, axis=0)\n",
    "    "
   ]
  },
  {
   "cell_type": "markdown",
   "id": "da7cc8fd",
   "metadata": {},
   "source": [
    "# Standardize the inputs"
   ]
  },
  {
   "cell_type": "code",
   "execution_count": 13,
   "id": "8109e66e",
   "metadata": {},
   "outputs": [],
   "source": [
    "scaled_inputs = preprocessing.scale(unscaled_input_equal_priors)"
   ]
  },
  {
   "cell_type": "markdown",
   "id": "64093071",
   "metadata": {},
   "source": [
    "# shuffle the data"
   ]
  },
  {
   "cell_type": "code",
   "execution_count": 16,
   "id": "1f1c4345",
   "metadata": {},
   "outputs": [],
   "source": [
    "shuffled_indices = np.arange(scaled_inputs.shape[0])\n",
    "np.random.shuffle(shuffled_indices)\n",
    "\n",
    "shuffled_inputs = scaled_inputs[shuffled_indices]\n",
    "shuffled_targets = target_equal_priors[shuffled_indices]"
   ]
  },
  {
   "cell_type": "markdown",
   "id": "78a19efa",
   "metadata": {},
   "source": [
    "# Split train validation and test "
   ]
  },
  {
   "cell_type": "code",
   "execution_count": 17,
   "id": "c276fc83",
   "metadata": {},
   "outputs": [],
   "source": [
    "sample_counts = shuffled_inputs.shape[0]\n",
    "\n",
    "train_sample_count=int(0.8*sample_counts)\n",
    "validation_sample_count=int(0.1*sample_counts)\n",
    "test_sample_count= sample_counts - train_sample_count- validation_sample_count\n",
    "\n",
    "train_input = shuffled_inputs[:train_sample_count]\n",
    "train_targets = shuffled_targets[:train_sample_count]\n",
    "\n",
    "validation_inputs = shuffled_inputs[train_sample_count:train_sample_count+validation_sample_count]\n",
    "validation_targets = shuffled_targets[train_sample_count:train_sample_count+validation_sample_count]\n",
    "\n",
    "test_inputs=shuffled_inputs[train_sample_count+validation_sample_count:]\n",
    "test_targets=shuffled_targets[train_sample_count+validation_sample_count:]"
   ]
  },
  {
   "cell_type": "markdown",
   "id": "006a2bf5",
   "metadata": {},
   "source": [
    "# Saves the data"
   ]
  },
  {
   "cell_type": "code",
   "execution_count": 18,
   "id": "5f8bd757",
   "metadata": {},
   "outputs": [],
   "source": [
    "np.savez('audiobooks_data_train', inputs=train_input,targets=train_targets)\n",
    "np.savez('audiobooks_data_validation', inputs=validation_inputs,targets=validation_targets)\n",
    "np.savez('audiobooks_data_test', inputs=test_inputs,targets=test_targets)"
   ]
  },
  {
   "cell_type": "code",
   "execution_count": null,
   "id": "4f3f7a71",
   "metadata": {},
   "outputs": [],
   "source": []
  }
 ],
 "metadata": {
  "kernelspec": {
   "display_name": "Python 3 (ipykernel)",
   "language": "python",
   "name": "python3"
  },
  "language_info": {
   "codemirror_mode": {
    "name": "ipython",
    "version": 3
   },
   "file_extension": ".py",
   "mimetype": "text/x-python",
   "name": "python",
   "nbconvert_exporter": "python",
   "pygments_lexer": "ipython3",
   "version": "3.10.13"
  }
 },
 "nbformat": 4,
 "nbformat_minor": 5
}
