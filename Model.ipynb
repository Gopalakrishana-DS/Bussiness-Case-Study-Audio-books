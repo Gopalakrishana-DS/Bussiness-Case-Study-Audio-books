{
 "cells": [
  {
   "cell_type": "markdown",
   "id": "7cc7ed13",
   "metadata": {},
   "source": [
    "# Load the libraies"
   ]
  },
  {
   "cell_type": "code",
   "execution_count": 8,
   "id": "57b4958b",
   "metadata": {},
   "outputs": [],
   "source": [
    "import numpy as np\n",
    "import tensorflow as tf"
   ]
  },
  {
   "cell_type": "markdown",
   "id": "66f3943f",
   "metadata": {},
   "source": [
    "# Load the data"
   ]
  },
  {
   "cell_type": "code",
   "execution_count": 9,
   "id": "301abc66",
   "metadata": {},
   "outputs": [],
   "source": [
    "#npz is temp variable\n",
    "npz = np.load('audiobooks_data_train.npz')\n",
    "\n",
    "train_inputs = npz['inputs'].astype(float)\n",
    "train_targets = npz['targets'].astype(int)\n",
    "\n",
    "npz = np.load('audiobooks_data_validation.npz')\n",
    "\n",
    "validation_inputs=npz['inputs'].astype(float)\n",
    "validation_targets=npz['targets'].astype(int)\n",
    "\n",
    "npz = np.load('audiobooks_data_test.npz')\n",
    "\n",
    "test_inputs=npz['inputs'].astype(float)\n",
    "test_targets=npz['targets'].astype(int)\n"
   ]
  },
  {
   "cell_type": "markdown",
   "id": "a142e701",
   "metadata": {},
   "source": [
    "# Model"
   ]
  },
  {
   "cell_type": "code",
   "execution_count": 16,
   "id": "d0795053",
   "metadata": {},
   "outputs": [
    {
     "name": "stdout",
     "output_type": "stream",
     "text": [
      "Epoch 1/100\n",
      "113/113 - 1s - loss: 0.4028 - accuracy: 0.8572 - val_loss: 0.2971 - val_accuracy: 0.8935 - 682ms/epoch - 6ms/step\n",
      "Epoch 2/100\n",
      "113/113 - 0s - loss: 0.2820 - accuracy: 0.8970 - val_loss: 0.2618 - val_accuracy: 0.9034 - 131ms/epoch - 1ms/step\n",
      "Epoch 3/100\n",
      "113/113 - 0s - loss: 0.2608 - accuracy: 0.9039 - val_loss: 0.2494 - val_accuracy: 0.9105 - 128ms/epoch - 1ms/step\n",
      "Epoch 4/100\n",
      "113/113 - 0s - loss: 0.2519 - accuracy: 0.9057 - val_loss: 0.2451 - val_accuracy: 0.9119 - 130ms/epoch - 1ms/step\n",
      "Epoch 5/100\n",
      "113/113 - 0s - loss: 0.2471 - accuracy: 0.9078 - val_loss: 0.2317 - val_accuracy: 0.9155 - 128ms/epoch - 1ms/step\n",
      "Epoch 6/100\n",
      "113/113 - 0s - loss: 0.2411 - accuracy: 0.9091 - val_loss: 0.2302 - val_accuracy: 0.9112 - 128ms/epoch - 1ms/step\n",
      "Epoch 7/100\n",
      "113/113 - 0s - loss: 0.2385 - accuracy: 0.9088 - val_loss: 0.2277 - val_accuracy: 0.9141 - 127ms/epoch - 1ms/step\n",
      "Epoch 8/100\n",
      "113/113 - 0s - loss: 0.2368 - accuracy: 0.9100 - val_loss: 0.2259 - val_accuracy: 0.9119 - 127ms/epoch - 1ms/step\n",
      "Epoch 9/100\n",
      "113/113 - 0s - loss: 0.2343 - accuracy: 0.9109 - val_loss: 0.2228 - val_accuracy: 0.9084 - 128ms/epoch - 1ms/step\n",
      "Epoch 10/100\n",
      "113/113 - 0s - loss: 0.2337 - accuracy: 0.9114 - val_loss: 0.2192 - val_accuracy: 0.9126 - 128ms/epoch - 1ms/step\n",
      "Epoch 11/100\n",
      "113/113 - 0s - loss: 0.2324 - accuracy: 0.9105 - val_loss: 0.2214 - val_accuracy: 0.9134 - 130ms/epoch - 1ms/step\n",
      "Epoch 12/100\n",
      "113/113 - 0s - loss: 0.2302 - accuracy: 0.9117 - val_loss: 0.2170 - val_accuracy: 0.9155 - 126ms/epoch - 1ms/step\n",
      "Epoch 13/100\n",
      "113/113 - 0s - loss: 0.2304 - accuracy: 0.9112 - val_loss: 0.2194 - val_accuracy: 0.9126 - 127ms/epoch - 1ms/step\n",
      "Epoch 14/100\n",
      "113/113 - 0s - loss: 0.2278 - accuracy: 0.9115 - val_loss: 0.2214 - val_accuracy: 0.9148 - 128ms/epoch - 1ms/step\n"
     ]
    },
    {
     "data": {
      "text/plain": [
       "<keras.src.callbacks.History at 0x12beb98b3d0>"
      ]
     },
     "execution_count": 16,
     "metadata": {},
     "output_type": "execute_result"
    }
   ],
   "source": [
    "input_size = 10\n",
    "hidden_layer_size = 50\n",
    "output_size = 2\n",
    "\n",
    "model = tf.keras.Sequential([\n",
    "                            tf.keras.layers.Dense(hidden_layer_size, activation='relu'),\n",
    "                            tf.keras.layers.Dense(hidden_layer_size, activation='relu'),\n",
    "                            tf.keras.layers.Dense(output_size, activation='softmax'),\n",
    "                            ])\n",
    "\n",
    "model.compile(optimizer='adam', loss='sparse_categorical_crossentropy', metrics=['accuracy'])\n",
    "\n",
    "#early stops function stop the process if its val_loss incresing ot overfitting.\n",
    "early_stopping = tf.keras.callbacks.EarlyStopping(patience=2) # without patience model will but its will if val_loss increase\n",
    "                                                               # patience will let run more epochs if val_loss was so low  \n",
    "model.fit(train_inputs,\n",
    "          train_targets,\n",
    "          batch_size=100,\n",
    "          epochs=100,\n",
    "          callbacks=[early_stopping],# model will run with early stop but it will overfit.\n",
    "          validation_data=(validation_inputs,validation_targets),\n",
    "          verbose=2)"
   ]
  },
  {
   "cell_type": "markdown",
   "id": "3a53652e",
   "metadata": {},
   "source": [
    "# Test the model"
   ]
  },
  {
   "cell_type": "code",
   "execution_count": 14,
   "id": "eb167c03",
   "metadata": {},
   "outputs": [
    {
     "name": "stdout",
     "output_type": "stream",
     "text": [
      "45/45 [==============================] - 0s 849us/step - loss: 0.2634 - accuracy: 0.8943\n"
     ]
    },
    {
     "data": {
      "text/plain": [
       "[0.2633589804172516, 0.8942512273788452]"
      ]
     },
     "execution_count": 14,
     "metadata": {},
     "output_type": "execute_result"
    }
   ],
   "source": [
    "model.evaluate(test_inputs, test_targets)"
   ]
  },
  {
   "cell_type": "code",
   "execution_count": null,
   "id": "51b4e663",
   "metadata": {},
   "outputs": [],
   "source": []
  }
 ],
 "metadata": {
  "kernelspec": {
   "display_name": "Python 3 (ipykernel)",
   "language": "python",
   "name": "python3"
  },
  "language_info": {
   "codemirror_mode": {
    "name": "ipython",
    "version": 3
   },
   "file_extension": ".py",
   "mimetype": "text/x-python",
   "name": "python",
   "nbconvert_exporter": "python",
   "pygments_lexer": "ipython3",
   "version": "3.10.13"
  }
 },
 "nbformat": 4,
 "nbformat_minor": 5
}
